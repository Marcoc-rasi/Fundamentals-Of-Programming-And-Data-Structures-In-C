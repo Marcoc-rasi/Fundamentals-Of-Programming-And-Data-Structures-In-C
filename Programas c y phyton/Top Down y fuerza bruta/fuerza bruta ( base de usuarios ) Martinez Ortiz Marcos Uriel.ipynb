{
 "cells": [
  {
   "cell_type": "code",
   "execution_count": 1,
   "metadata": {
    "collapsed": false
   },
   "outputs": [],
   "source": [
    "import pickle\n"
   ]
  },
  {
   "cell_type": "code",
   "execution_count": 2,
   "metadata": {
    "collapsed": false
   },
   "outputs": [],
   "source": [
    "usuarios = {\"marcos\":3130,\"tepayol\":3140,\"solano\":5049,\"paty\":5712}\n",
    "fil = open (\"usuarios.p\",\"wb\")\n",
    "pickle.dump(usuarios,fil)\n",
    "fil.close()\n"
   ]
  },
  {
   "cell_type": "code",
   "execution_count": 3,
   "metadata": {
    "collapsed": true
   },
   "outputs": [],
   "source": [
    "fil = open('usuarios.p', 'rb')          #Se abre el archivo para leer en modo binario\n",
    "memoria_de_fil = pickle.load(fil)  #Se lee la variable\n",
    "fil.close() "
   ]
  },
  {
   "cell_type": "code",
   "execution_count": 4,
   "metadata": {
    "collapsed": false
   },
   "outputs": [
    {
     "data": {
      "text/plain": [
       "{'marcos': 3130, 'paty': 5712, 'solano': 5049, 'tepayol': 3140}"
      ]
     },
     "execution_count": 4,
     "metadata": {},
     "output_type": "execute_result"
    }
   ],
   "source": [
    "memoria_de_fil"
   ]
  },
  {
   "cell_type": "code",
   "execution_count": 5,
   "metadata": {
    "collapsed": false
   },
   "outputs": [
    {
     "name": "stdout",
     "output_type": "stream",
     "text": [
      "este programa es una base de datos de usuarios\n"
     ]
    }
   ],
   "source": [
    "print(\"este programa es una base de datos de usuarios\")\n",
    "fil = open(\"usuarios.p\",\"rb\")\n",
    "dic = pickle.load(fil)\n",
    "fil.close()"
   ]
  },
  {
   "cell_type": "code",
   "execution_count": 6,
   "metadata": {
    "collapsed": false
   },
   "outputs": [],
   "source": [
    "def buscar(strNombre,intContrasena):\n",
    "    if (strNombre in dic) == True:\n",
    "        print(\"usuario encontrado\")\n",
    "        if usuarios[strNombre] == intContrasena:\n",
    "            print(\"contrasena correcta\")\n",
    "        else:\n",
    "            print(\"contrasena incorrecta\")\n",
    "    else:\n",
    "        print(\"usuario no encontrado\")\n",
    "        "
   ]
  },
  {
   "cell_type": "code",
   "execution_count": 7,
   "metadata": {
    "collapsed": false
   },
   "outputs": [
    {
     "name": "stdout",
     "output_type": "stream",
     "text": [
      "usuario encontrado\n",
      "contrasena correcta\n"
     ]
    }
   ],
   "source": [
    "buscar(\"marcos\",3130)"
   ]
  },
  {
   "cell_type": "code",
   "execution_count": 8,
   "metadata": {
    "collapsed": false
   },
   "outputs": [
    {
     "name": "stdout",
     "output_type": "stream",
     "text": [
      "usuario encontrado\n",
      "contrasena incorrecta\n"
     ]
    }
   ],
   "source": [
    "buscar(\"tepayol\",5964)"
   ]
  },
  {
   "cell_type": "code",
   "execution_count": 9,
   "metadata": {
    "collapsed": false
   },
   "outputs": [
    {
     "name": "stdout",
     "output_type": "stream",
     "text": [
      "usuario no encontrado\n"
     ]
    }
   ],
   "source": [
    "buscar(\"hola\",0)"
   ]
  },
  {
   "cell_type": "markdown",
   "metadata": {},
   "source": [
    "## grafica del algoritmo\n"
   ]
  },
  {
   "cell_type": "code",
   "execution_count": 10,
   "metadata": {
    "collapsed": true
   },
   "outputs": [],
   "source": [
    "fil = open(\"usuarios.p\",\"rb\")\n",
    "dic = pickle.load(fil)\n",
    "fil.close()\n",
    "cont = 0 \n",
    "y = []"
   ]
  },
  {
   "cell_type": "code",
   "execution_count": 11,
   "metadata": {
    "collapsed": false
   },
   "outputs": [
    {
     "name": "stdout",
     "output_type": "stream",
     "text": [
      "[1, 2, 3, 4]\n"
     ]
    }
   ],
   "source": [
    "#numero de veces que entra a la condicional para buscar el usuario correcto , despues solo verifica\n",
    "#la clave en la pocicion que se encuentra asi que no representa cambios en la grafica\n",
    "for num in dic:\n",
    "    cont+=1\n",
    "    y.append(cont)\n",
    "print(y)\n"
   ]
  },
  {
   "cell_type": "code",
   "execution_count": 12,
   "metadata": {
    "collapsed": false
   },
   "outputs": [
    {
     "name": "stdout",
     "output_type": "stream",
     "text": [
      "Populating the interactive namespace from numpy and matplotlib\n"
     ]
    }
   ],
   "source": [
    "%pylab inline\n",
    "\n",
    "#Importando las librerías necesarias para graficar\n",
    "import matplotlib.pyplot as plt\n",
    "from mpl_toolkits.mplot3d import Axes3D\n",
    "x = linspace ( 0, 4, 4)"
   ]
  },
  {
   "cell_type": "code",
   "execution_count": 13,
   "metadata": {
    "collapsed": false
   },
   "outputs": [
    {
     "data": {
      "image/png": "[encoded data removed]",
      "text/plain": [
       "<matplotlib.figure.Figure at 0x42409f0>"
      ]
     },
     "metadata": {},
     "output_type": "display_data"
    }
   ],
   "source": [
    "fig, ax = plt.subplots(facecolor='w', edgecolor='k')\n",
    "ax.plot(x, y, marker=\"o\",color=\"r\", linestyle='None')\n",
    "\n",
    "ax.grid(True)\n",
    "ax.set_xlabel('X')  #Etiqueta del eje x\n",
    "ax.set_ylabel('Y')  #Etiqueta del eje y\n",
    "ax.grid(True)\n",
    "#ax.legend([\"y = x\"])\n",
    "\n",
    "plt.title('Puntos')\n",
    "plt.show()\n",
    "\n",
    "fig.savefig(\"gráfica.png\") #Guardando la gráfica"
   ]
  },
  {
   "cell_type": "code",
   "execution_count": null,
   "metadata": {
    "collapsed": true
   },
   "outputs": [],
   "source": []
  },
  {
   "cell_type": "code",
   "execution_count": null,
   "metadata": {
    "collapsed": true
   },
   "outputs": [],
   "source": []
  }
 ],
 "metadata": {
  "kernelspec": {
   "display_name": "Python 3",
   "language": "python",
   "name": "python3"
  },
  "language_info": {
   "codemirror_mode": {
    "name": "ipython",
    "version": 3
   },
   "file_extension": ".py",
   "mimetype": "text/x-python",
   "name": "python",
   "nbconvert_exporter": "python",
   "pygments_lexer": "ipython3",
   "version": "3.5.1"
  }
 },
 "nbformat": 4,
 "nbformat_minor": 0
}
