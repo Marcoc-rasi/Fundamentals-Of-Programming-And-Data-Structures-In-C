{
 "cells": [
  {
   "cell_type": "code",
   "execution_count": null,
   "metadata": {
    "collapsed": true
   },
   "outputs": [],
   "source": [
    "lista = []\n",
    "x = 0\n",
    "y =0\n",
    "w = 0\n",
    "def insertar():\n",
    "     if(len(lista) == 4):\n",
    "         print(\"la lista esta llena\")\n",
    "     else:\n",
    "         y = int(input(\"elemento a insertar ?\"))\n",
    "         if ((y in lista)== True):\n",
    "             print(\"el elemento ya existe inserta otro\")\n",
    "         else:\n",
    "             lista.append(y)\n",
    "   \n",
    "\n",
    "\n",
    "\n",
    "def eliminar():\n",
    "     w = int(input(\"inserta el elemento a eliminar\"))\n",
    "     if ((w in lista) == True):\n",
    "          lista.remove(w)\n",
    "     else:\n",
    "          print(\"el elemento no se encontro en la lista\")\n",
    "          print(w)\n",
    "\n",
    "\n",
    "def imprimir():\n",
    "     if len(lista) == 0:\n",
    "         print(\"la lista esta vacia\")\n",
    "     else:\n",
    "         print(\"lista\\n\" + str(lista))\n",
    "\n",
    "\n",
    "\n",
    "\n",
    "\n",
    "while x != 4:\n",
    "      imprimir()\n",
    "      print(\"\\n\\t#######LISTA#######\\n\\t\")\n",
    "      print(\"\\n\\t1)insertar elemento\\n\\t2)Eliminar elemento\\t\")\n",
    "      print(\"\\t3)Imprimir lista\\n\\t4)Salir\")\n",
    "      x =  int(input(\"inserta una opcion\"))\n",
    "      \n",
    "      if x == 1:\n",
    "           insertar()\n",
    "      elif x == 2:\n",
    "           eliminar()\n",
    "      elif x == 3:\n",
    "           print(\"\\n\")\n",
    "      elif x == 4:\n",
    "           print(\"PROGRAMA TERMINADO\")\n",
    "      else:\n",
    "           print(\"opcion incorrecta\")      "
   ]
  },
  {
   "cell_type": "code",
   "execution_count": null,
   "metadata": {
    "collapsed": true
   },
   "outputs": [],
   "source": []
  }
 ],
 "metadata": {
  "kernelspec": {
   "display_name": "Python 3",
   "language": "python",
   "name": "python3"
  }
 },
 "nbformat": 4,
 "nbformat_minor": 0
}
