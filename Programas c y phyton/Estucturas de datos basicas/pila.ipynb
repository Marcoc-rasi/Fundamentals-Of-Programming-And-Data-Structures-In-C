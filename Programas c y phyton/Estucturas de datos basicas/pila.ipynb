{
 "cells": [
  {
   "cell_type": "code",
   "execution_count": null,
   "metadata": {
    "collapsed": false
   },
   "outputs": [
    {
     "name": "stdout",
     "output_type": "stream",
     "text": [
      "pila\n",
      "\t1)insertar\n",
      "\t2)borrar\n",
      "\t3)imprir pila\n",
      "\t4)Salir\n"
     ]
    }
   ],
   "source": [
    "pila = []\n",
    "x = 2\n",
    "i = 0\n",
    "numElementos = 4\n",
    "while x != 4:\n",
    "     print ( \"pila\\n\\t1)insertar\\n\\t2)borrar\\n\\t3)imprir pila\\n\\t4)Salir\")\n",
    "     x = int(input(\"inserta una opcion\"))\n",
    "     print( \"x=\" + str(x))\n",
    "     if x==1:\n",
    "         print(\"Se eligio 1\\n\")\n",
    "         if(len(pila)==numElementos):\n",
    "             print(\"La pila esta llena no puedes insertar\")\n",
    "             print(pila)\n",
    "         else:\n",
    "             y=len(pila)\n",
    "             pila.insert(y,1)   \n",
    "             print (pila)\n",
    "     elif x==2:\n",
    "         if(len(pila)==0):\n",
    "              print(\"La pila no tiene elementos no puedes borrar\")\n",
    "         else:\n",
    "              print(\"Se eligio 2\\n\")\n",
    "              pila.pop()\n",
    "              print(pila)\n",
    "     elif x==3:\n",
    "           print(\"Se eligio 3\\n\")\n",
    "           if(len(pila)==0):\n",
    "               print(\"La pila no tiene elementos\")\n",
    "           else:\n",
    "              print(pila)\n",
    "     else:\n",
    "         print(\"Opcion invalida\\n\")\n",
    "    \n"
   ]
  },
  {
   "cell_type": "code",
   "execution_count": null,
   "metadata": {
    "collapsed": true
   },
   "outputs": [],
   "source": []
  }
 ],
 "metadata": {
  "kernelspec": {
   "display_name": "Python 3",
   "language": "python",
   "name": "python3"
  },
  "language_info": {
   "codemirror_mode": {
    "name": "ipython",
    "version": 3
   },
   "file_extension": ".py",
   "mimetype": "text/x-python",
   "name": "python",
   "nbconvert_exporter": "python",
   "pygments_lexer": "ipython3",
   "version": "3.5.1"
  }
 },
 "nbformat": 4,
 "nbformat_minor": 0
}
