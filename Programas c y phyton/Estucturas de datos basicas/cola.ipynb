{
 "cells": [
  {
   "cell_type": "code",
   "execution_count": 1,
   "metadata": {
    "collapsed": true
   },
   "outputs": [],
   "source": [
    "#vamos a crear la pila con una lista\n",
    "cola = [ ]\n",
    "\n",
    "    "
   ]
  },
  {
   "cell_type": "markdown",
   "metadata": {},
   "source": [
    "## COLA\n"
   ]
  },
  {
   "cell_type": "code",
   "execution_count": null,
   "metadata": {
    "collapsed": false
   },
   "outputs": [
    {
     "name": "stdout",
     "output_type": "stream",
     "text": [
      "cola\n",
      "\t1)insertar\n",
      "\t2)borrar\n",
      "\t3)imprir cola\n",
      "\t4)Salir\n"
     ]
    }
   ],
   "source": [
    "x = 2\n",
    "i = 0\n",
    "numElementos = 4\n",
    "while x != 4:\n",
    "     print ( \"cola\\n\\t1)insertar\\n\\t2)borrar\\n\\t3)imprir cola\\n\\t4)Salir\")\n",
    "     x = int(input(\"inserta una opcion\"))\n",
    "     print( \"x=\" + str(x))\n",
    "     if x==1:\n",
    "         print(\"Se eligio 1\\n\")\n",
    "         if(len(cola)==numElementos):\n",
    "             print(\"La cola esta llena no puedes insertar\")\n",
    "             print(cola)\n",
    "         else:\n",
    "             y=len(cola)\n",
    "             cola.insert(y,1)   \n",
    "             print (cola)\n",
    "     elif x==2:\n",
    "         if(len(cola)==0):\n",
    "              print(\"La cola no tiene elementos no puedes borrar\")\n",
    "         else:\n",
    "              print(\"Se eligio 2\\n\")\n",
    "              if(cola[i]!=0):\n",
    "                 #del(cola[i])\n",
    "                 cola[i]=\"ocupado\"\n",
    "                 i+=1\n",
    "                 print(cola)\n",
    "     elif x==3:\n",
    "           print(\"Se eligio 3\\n\")\n",
    "           if(len(cola)==0):\n",
    "              print(\"La cola no tiene elementos\")\n",
    "           else:\n",
    "              print(cola)\n",
    "     else:\n",
    "         print(\"Opcion invalida\\n\")\n",
    "     if i==4:\n",
    "         i=0\n",
    "         cola = []"
   ]
  },
  {
   "cell_type": "code",
   "execution_count": null,
   "metadata": {
    "collapsed": true
   },
   "outputs": [],
   "source": []
  },
  {
   "cell_type": "code",
   "execution_count": null,
   "metadata": {
    "collapsed": true
   },
   "outputs": [],
   "source": []
  },
  {
   "cell_type": "code",
   "execution_count": null,
   "metadata": {
    "collapsed": true
   },
   "outputs": [],
   "source": []
  },
  {
   "cell_type": "code",
   "execution_count": null,
   "metadata": {
    "collapsed": true
   },
   "outputs": [],
   "source": []
  }
 ],
 "metadata": {
  "kernelspec": {
   "display_name": "Python 3",
   "language": "python",
   "name": "python3"
  },
  "language_info": {
   "codemirror_mode": {
    "name": "ipython",
    "version": 3
   },
   "file_extension": ".py",
   "mimetype": "text/x-python",
   "name": "python",
   "nbconvert_exporter": "python",
   "pygments_lexer": "ipython3",
   "version": "3.5.1"
  }
 },
 "nbformat": 4,
 "nbformat_minor": 0
}
