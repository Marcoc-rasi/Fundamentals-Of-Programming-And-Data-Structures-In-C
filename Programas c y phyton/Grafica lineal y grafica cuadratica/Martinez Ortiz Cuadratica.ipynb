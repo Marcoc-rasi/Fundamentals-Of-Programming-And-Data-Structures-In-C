{
 "cells": [
  {
   "cell_type": "markdown",
   "metadata": {},
   "source": [
    "# GRAFICA LINEAL\n"
   ]
  },
  {
   "cell_type": "code",
   "execution_count": 11,
   "metadata": {
    "collapsed": false
   },
   "outputs": [
    {
     "name": "stdout",
     "output_type": "stream",
     "text": [
      "vamos a calcular el crecimiento exponencial de la reproducion hum,ana anual\n",
      "tabulacion\n",
      "X---Y\n",
      "1--4\n",
      "2--16\n",
      "3--256\n",
      "4--65536\n",
      "5--4294967296\n",
      "6--18446744073709551616\n",
      "7--340282366920938463463374607431768211456\n",
      "None\n",
      "[4, 16, 256, 65536, 4294967296, 18446744073709551616, 340282366920938463463374607431768211456]\n"
     ]
    },
    {
     "name": "stderr",
     "output_type": "stream",
     "text": [
      "<ipython-input-11-c02d75f06fc5>:12: SyntaxWarning: name 'i' is used prior to global declaration\n",
      "  global i\n",
      "<ipython-input-11-c02d75f06fc5>:14: SyntaxWarning: name 'b' is used prior to global declaration\n",
      "  global b\n"
     ]
    }
   ],
   "source": [
    "i = 1 \n",
    "tabla = 1\n",
    "y = []\n",
    "print (\"vamos a calcular el crecimiento exponencial de la reproducion hum,ana anual\")\n",
    "print (\"tabulacion\")\n",
    "print (\"X---Y\")\n",
    "b = 2\n",
    "p = 3\n",
    "\n",
    "def multiplicacion (tabla):\n",
    "    while (i != 8):\n",
    "        global i\n",
    "        t = b ** 2\n",
    "        global b\n",
    "        b = b**2\n",
    "        y.append(t)\n",
    "        print(str(i) + \"--\" + str(t))\n",
    "        i = i + 1\n",
    "    #return i\n",
    "\n",
    "    \n",
    "print(multiplicacion(8))\n",
    "print (y)\n",
    "\n"
   ]
  },
  {
   "cell_type": "code",
   "execution_count": 12,
   "metadata": {
    "collapsed": false
   },
   "outputs": [
    {
     "name": "stdout",
     "output_type": "stream",
     "text": [
      "Populating the interactive namespace from numpy and matplotlib\n"
     ]
    }
   ],
   "source": [
    "%pylab inline\n",
    "\n",
    "#Importando las librerías necesarias para graficar\n",
    "import matplotlib.pyplot as plt\n",
    "from mpl_toolkits.mplot3d import Axes3D\n",
    "x = linspace ( 0, 7, 7)"
   ]
  },
  {
   "cell_type": "code",
   "execution_count": 13,
   "metadata": {
    "collapsed": false
   },
   "outputs": [
    {
     "data": {
      "image/png": "[encoded data removed]",
      "text/plain": [
       "<matplotlib.figure.Figure at 0x7fc4f80ab198>"
      ]
     },
     "metadata": {},
     "output_type": "display_data"
    }
   ],
   "source": [
    "fig, ax = plt.subplots(facecolor='w', edgecolor='k')\n",
    "ax.plot(x, y, marker=\"o\",color=\"r\", linestyle='None')\n",
    "\n",
    "ax.grid(True)\n",
    "ax.set_xlabel('X')  #Etiqueta del eje x\n",
    "ax.set_ylabel('Y')  #Etiqueta del eje y\n",
    "ax.grid(True)\n",
    "ax.legend([\"y = x**2\"])\n",
    "\n",
    "plt.title('Puntos')\n",
    "plt.show()\n",
    "\n",
    "fig.savefig(\"gráfica.png\") #Guardando la gráfica"
   ]
  },
  {
   "cell_type": "code",
   "execution_count": null,
   "metadata": {
    "collapsed": true
   },
   "outputs": [],
   "source": []
  },
  {
   "cell_type": "code",
   "execution_count": null,
   "metadata": {
    "collapsed": true
   },
   "outputs": [],
   "source": []
  },
  {
   "cell_type": "code",
   "execution_count": null,
   "metadata": {
    "collapsed": true
   },
   "outputs": [],
   "source": []
  }
 ],
 "metadata": {
  "kernelspec": {
   "display_name": "Python 3",
   "language": "python",
   "name": "python3"
  },
  "language_info": {
   "codemirror_mode": {
    "name": "ipython",
    "version": 3
   },
   "file_extension": ".py",
   "mimetype": "text/x-python",
   "name": "python",
   "nbconvert_exporter": "python",
   "pygments_lexer": "ipython3",
   "version": "3.5.1"
  }
 },
 "nbformat": 4,
 "nbformat_minor": 0
}
