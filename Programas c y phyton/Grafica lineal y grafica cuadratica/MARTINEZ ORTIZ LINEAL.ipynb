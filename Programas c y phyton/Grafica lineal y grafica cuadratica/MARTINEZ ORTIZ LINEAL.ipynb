{
 "cells": [
  {
   "cell_type": "markdown",
   "metadata": {},
   "source": [
    "# GRAFICA CUADRATICA"
   ]
  },
  {
   "cell_type": "code",
   "execution_count": 13,
   "metadata": {
    "collapsed": false
   },
   "outputs": [
    {
     "name": "stdout",
     "output_type": "stream",
     "text": [
      "vamos a calcular la tabla de un numero del 1 al 10\n",
      "tabulacion\n",
      "X---Y\n",
      "1--8\n",
      "2--16\n",
      "3--24\n",
      "4--32\n",
      "5--40\n",
      "6--48\n",
      "7--56\n",
      "8--64\n",
      "9--72\n",
      "10--80\n",
      "None\n",
      "[8, 16, 24, 32, 40, 48, 56, 64, 72, 80]\n"
     ]
    },
    {
     "name": "stderr",
     "output_type": "stream",
     "text": [
      "<ipython-input-13-7c2880ea07f8>:12: SyntaxWarning: name 'i' is used prior to global declaration\n",
      "  global i\n"
     ]
    }
   ],
   "source": [
    "i = 1 \n",
    "tabla = 1\n",
    "y = []\n",
    "print (\"vamos a calcular la tabla de un numero del 1 al 10\")\n",
    "print (\"tabulacion\")\n",
    "print (\"X---Y\")\n",
    "\n",
    "\n",
    "def multiplicacion (tabla):\n",
    "    while (i != 11):\n",
    "        global i\n",
    "        t = tabla*i\n",
    "        y.append(t)\n",
    "        print(str(i) + \"--\" + str(t))\n",
    "        i = i + 1\n",
    "    #return i\n",
    "\n",
    "    \n",
    "print(multiplicacion(8))\n",
    "print (y)\n",
    "\n",
    "    "
   ]
  },
  {
   "cell_type": "code",
   "execution_count": 14,
   "metadata": {
    "collapsed": false
   },
   "outputs": [
    {
     "name": "stdout",
     "output_type": "stream",
     "text": [
      "Populating the interactive namespace from numpy and matplotlib\n"
     ]
    }
   ],
   "source": [
    "%pylab inline\n",
    "\n",
    "#Importando las librerías necesarias para graficar\n",
    "import matplotlib.pyplot as plt\n",
    "from mpl_toolkits.mplot3d import Axes3D\n",
    "x = linspace ( 0, 10, 10)"
   ]
  },
  {
   "cell_type": "code",
   "execution_count": 15,
   "metadata": {
    "collapsed": false
   },
   "outputs": [
    {
     "data": {
      "image/png": "[encoded data removed]",
      "text/plain": [
       "<matplotlib.figure.Figure at 0x7f38afbce9b0>"
      ]
     },
     "metadata": {},
     "output_type": "display_data"
    }
   ],
   "source": [
    "fig, ax = plt.subplots(facecolor='w', edgecolor='k')\n",
    "ax.plot(x, y, marker=\"o\",color=\"r\", linestyle='None')\n",
    "\n",
    "ax.grid(True)\n",
    "ax.set_xlabel('X')  #Etiqueta del eje x\n",
    "ax.set_ylabel('Y')  #Etiqueta del eje y\n",
    "ax.grid(True)\n",
    "ax.legend([\"y = x**2\"])\n",
    "\n",
    "plt.title('Puntos')\n",
    "plt.show()\n",
    "\n",
    "fig.savefig(\"gráfica.png\") #Guardando la gráfica"
   ]
  },
  {
   "cell_type": "code",
   "execution_count": null,
   "metadata": {
    "collapsed": true
   },
   "outputs": [],
   "source": []
  }
 ],
 "metadata": {
  "kernelspec": {
   "display_name": "Python 3",
   "language": "python",
   "name": "python3"
  },
  "language_info": {
   "codemirror_mode": {
    "name": "ipython",
    "version": 3
   },
   "file_extension": ".py",
   "mimetype": "text/x-python",
   "name": "python",
   "nbconvert_exporter": "python",
   "pygments_lexer": "ipython3",
   "version": "3.5.1"
  }
 },
 "nbformat": 4,
 "nbformat_minor": 0
}
